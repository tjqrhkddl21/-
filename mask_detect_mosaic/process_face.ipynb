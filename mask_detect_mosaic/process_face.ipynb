{
 "cells": [
  {
   "cell_type": "code",
   "execution_count": 31,
   "metadata": {},
   "outputs": [],
   "source": [
    "from imutils import paths\n",
    "import numpy as np\n",
    "import argparse\n",
    "import os\n",
    "import cv2\n",
    "import time"
   ]
  },
  {
   "cell_type": "code",
   "execution_count": 32,
   "metadata": {},
   "outputs": [],
   "source": [
    "ap = argparse.ArgumentParser()\n",
    "ap.add_argument(\"-d\", \"--dataset\", default =r'dataset1', help=\"dataset\")\n",
    "ap.add_argument(\"-f\", \"--face\", type=str, default=\"face_detector\", help=\"face detector model\")\n",
    "ap.add_argument(\"-c\", \"--confidence\", type=float, default=0.8, help=\"minimum probability\")\n",
    "args = vars(ap.parse_args(args=[]))"
   ]
  },
  {
   "cell_type": "markdown",
   "metadata": {},
   "source": [
    "- 얼굴을 디텍션할 모델 로드"
   ]
  },
  {
   "cell_type": "code",
   "execution_count": 33,
   "metadata": {},
   "outputs": [],
   "source": [
    "prototxtPath = os.path.sep.join([args[\"face\"], \"deploy.prototxt\"])\n",
    "weightsPath = os.path.sep.join([args[\"face\"], \"res10_300x300_ssd_iter_140000.caffemodel\"])\n",
    "net = cv2.dnn.readNet(prototxtPath, weightsPath)"
   ]
  },
  {
   "cell_type": "markdown",
   "metadata": {},
   "source": [
    "- 얼굴을 CROP할 이미지 경로 위치"
   ]
  },
  {
   "cell_type": "code",
   "execution_count": 34,
   "metadata": {},
   "outputs": [],
   "source": [
    "imagePaths = list(paths.list_images(args[\"dataset\"]))"
   ]
  },
  {
   "cell_type": "markdown",
   "metadata": {},
   "source": [
    "- CROP한 이미지들이 저장될 경로 폴더"
   ]
  },
  {
   "cell_type": "code",
   "execution_count": 35,
   "metadata": {},
   "outputs": [],
   "source": [
    "preprocessed_dir = \"mask_data_preprocessed\""
   ]
  },
  {
   "cell_type": "code",
   "execution_count": 36,
   "metadata": {},
   "outputs": [],
   "source": [
    "time_list= []"
   ]
  },
  {
   "cell_type": "code",
   "execution_count": 40,
   "metadata": {
    "collapsed": true
   },
   "outputs": [
    {
     "name": "stdout",
     "output_type": "stream",
     "text": [
      "[INFO] computing face detections...\n",
      "0.1472456455230713\n",
      "[INFO] computing face detections...\n",
      "0.1539292335510254\n",
      "[INFO] computing face detections...\n",
      "0.15624523162841797\n",
      "[INFO] computing face detections...\n",
      "0.15968084335327148\n",
      "[INFO] computing face detections...\n",
      "0.17188119888305664\n",
      "[INFO] computing face detections...\n",
      "0.16054749488830566\n",
      "[INFO] computing face detections...\n",
      "0.15063047409057617\n",
      "[INFO] computing face detections...\n",
      "0.21603751182556152\n",
      "[INFO] computing face detections...\n",
      "0.286592960357666\n",
      "[INFO] computing face detections...\n",
      "0.18440508842468262\n",
      "[INFO] computing face detections...\n",
      "0.14488792419433594\n",
      "[INFO] computing face detections...\n",
      "0.15208673477172852\n",
      "[INFO] computing face detections...\n",
      "0.17600083351135254\n",
      "[INFO] computing face detections...\n",
      "0.17299580574035645\n",
      "[INFO] computing face detections...\n",
      "0.1640021800994873\n",
      "[INFO] computing face detections...\n",
      "0.17600083351135254\n",
      "[INFO] computing face detections...\n"
     ]
    },
    {
     "ename": "KeyboardInterrupt",
     "evalue": "",
     "output_type": "error",
     "traceback": [
      "\u001b[1;31m---------------------------------------------------------------------------\u001b[0m",
      "\u001b[1;31mKeyboardInterrupt\u001b[0m                         Traceback (most recent call last)",
      "\u001b[1;32m<ipython-input-40-3638e0cf3f99>\u001b[0m in \u001b[0;36m<module>\u001b[1;34m\u001b[0m\n\u001b[0;32m     24\u001b[0m     \u001b[0mnet\u001b[0m\u001b[1;33m.\u001b[0m\u001b[0msetInput\u001b[0m\u001b[1;33m(\u001b[0m\u001b[0mblob\u001b[0m\u001b[1;33m)\u001b[0m\u001b[1;33m\u001b[0m\u001b[1;33m\u001b[0m\u001b[0m\n\u001b[0;32m     25\u001b[0m     \u001b[1;31m# 디텍션 실행\u001b[0m\u001b[1;33m\u001b[0m\u001b[1;33m\u001b[0m\u001b[1;33m\u001b[0m\u001b[0m\n\u001b[1;32m---> 26\u001b[1;33m     \u001b[0mdetections\u001b[0m \u001b[1;33m=\u001b[0m \u001b[0mnet\u001b[0m\u001b[1;33m.\u001b[0m\u001b[0mforward\u001b[0m\u001b[1;33m(\u001b[0m\u001b[1;33m)\u001b[0m\u001b[1;33m\u001b[0m\u001b[1;33m\u001b[0m\u001b[0m\n\u001b[0m\u001b[0;32m     27\u001b[0m \u001b[1;33m\u001b[0m\u001b[0m\n\u001b[0;32m     28\u001b[0m     \u001b[1;31m# 디텍션 된 위치 잘라내기\u001b[0m\u001b[1;33m\u001b[0m\u001b[1;33m\u001b[0m\u001b[1;33m\u001b[0m\u001b[0m\n",
      "\u001b[1;31mKeyboardInterrupt\u001b[0m: "
     ]
    }
   ],
   "source": [
    "for index, imagePath in enumerate(imagePaths):\n",
    "    # 폴더 명 with_mask / without_mask 는 라벨\n",
    "    label = imagePath.split(os.path.sep)[-2]\n",
    "\n",
    "    label_dir = os.path.join(preprocessed_dir, label)\n",
    "    os.makedirs(label_dir, exist_ok=True)\n",
    "    # 이미지 읽고\n",
    "    img = cv2.imread(imagePath)\n",
    "    if img is None:\n",
    "        # 못읽으면 넘어감\n",
    "        print(img)\n",
    "        continue\n",
    "    # RGB로 변경\n",
    "    image = cv2.cvtColor(img, cv2.COLOR_BGR2RGB)\n",
    "    (h, w) = image.shape[:2]\n",
    "\n",
    "    # BLOB 생성\n",
    "    blob = cv2.dnn.blobFromImage(image, 1.0, (300, 300),\n",
    "                                 (104.0, 177.0, 123.0))\n",
    "\n",
    "    print(\"[INFO] computing face detections...\")\n",
    "    start = time.time()\n",
    "    # 네트워크 input에 BLOB 설정\n",
    "    net.setInput(blob)\n",
    "    # 디텍션 실행\n",
    "    detections = net.forward()\n",
    "\n",
    "    # 디텍션 된 위치 잘라내기\n",
    "    cnt = 0\n",
    "    boxes = [detections[0, 0, i, 3:7] * np.array([w, h, w, h]) \n",
    "             for i in range(detections.shape[2]) if detections[0, 0, i, 2] > args[\"confidence\"]]\n",
    "    for box in boxes:\n",
    "        (startX, startY, endX, endY) = box.astype(\"int\")\n",
    "        (startX, startY) = (max(0, startX), max(0, startY))\n",
    "        (endX, endY) = (min(w - 1, endX), min(h - 1, endY))\n",
    "\n",
    "        face = image[startY:endY, startX:endX]\n",
    "        if len(face) == 0:\n",
    "            continue\n",
    "        face = cv2.cvtColor(face, cv2.COLOR_BGR2RGB)\n",
    "        # 이미지 저장\n",
    "        cv2.imwrite(label_dir + \"/\" + str(index) + \"_\" + str(cnt) + \".png\", face)\n",
    "        cnt += 1\n",
    "\n",
    "    second = time.time()\n",
    "    print(second-start)\n",
    "    time_list.append(second-start)\n",
    "print('complete')"
   ]
  },
  {
   "cell_type": "code",
   "execution_count": 41,
   "metadata": {},
   "outputs": [
    {
     "name": "stdout",
     "output_type": "stream",
     "text": [
      "0.17469076549305634\n"
     ]
    }
   ],
   "source": [
    "print(sum(time_list)/len(time_list))"
   ]
  },
  {
   "cell_type": "code",
   "execution_count": null,
   "metadata": {},
   "outputs": [],
   "source": []
  }
 ],
 "metadata": {
  "kernelspec": {
   "display_name": "Python 3",
   "language": "python",
   "name": "python3"
  },
  "language_info": {
   "codemirror_mode": {
    "name": "ipython",
    "version": 3
   },
   "file_extension": ".py",
   "mimetype": "text/x-python",
   "name": "python",
   "nbconvert_exporter": "python",
   "pygments_lexer": "ipython3",
   "version": "3.7.4"
  }
 },
 "nbformat": 4,
 "nbformat_minor": 2
}
